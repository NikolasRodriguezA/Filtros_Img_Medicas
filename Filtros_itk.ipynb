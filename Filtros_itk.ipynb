{
 "cells": [
  {
   "cell_type": "code",
   "execution_count": 25,
   "metadata": {},
   "outputs": [],
   "source": [
    "import itk\n",
    "import argparse\n",
    "\n",
    "imagen = \"US.jpg\"\n",
    "\n",
    "PixelType = itk.UC\n",
    "Dimension = 2\n",
    "\n",
    "ImageType = itk.Image[PixelType, Dimension]\n",
    "\n",
    "\n",
    "reader = itk.ImageFileReader[ImageType].New()\n",
    "reader.SetFileName(imagen)\n",
    "\n",
    "meanFilter = itk.MeanImageFilter[ImageType, ImageType].New()\n",
    "meanFilter.SetInput(reader.GetOutput())\n",
    "meanFilter.SetRadius(1)\n",
    "\n",
    "writer = itk.ImageFileWriter[ImageType].New()\n",
    "writer.SetFileName(\"US_filtrado.JPG\")\n",
    "writer.SetInput(meanFilter.GetOutput())\n",
    "\n",
    "writer.Update()"
   ]
  },
  {
   "cell_type": "code",
   "execution_count": 26,
   "metadata": {},
   "outputs": [],
   "source": [
    "medianFilter = itk.MedianImageFilter[ImageType, ImageType].New()\n",
    "medianFilter.SetInput(reader.GetOutput())\n",
    "medianFilter.SetRadius(1)\n",
    "\n",
    "writer = itk.ImageFileWriter[ImageType].New()\n",
    "writer.SetFileName(\"US_Median_Filter.JPG\")\n",
    "writer.SetInput(medianFilter.GetOutput())\n",
    "\n",
    "writer.Update()"
   ]
  },
  {
   "cell_type": "code",
   "execution_count": 27,
   "metadata": {},
   "outputs": [],
   "source": [
    "medianFilter = itk.GradientMagnitudeImageFilter[ImageType, ImageType].New()\n",
    "medianFilter.SetInput(reader.GetOutput())\n",
    "\n",
    "\n",
    "writer = itk.ImageFileWriter[ImageType].New()\n",
    "writer.SetFileName(\"US_Gradiente_Filter.JPG\")\n",
    "writer.SetInput(medianFilter.GetOutput())\n",
    "\n",
    "writer.Update()"
   ]
  },
  {
   "cell_type": "code",
   "execution_count": 28,
   "metadata": {},
   "outputs": [],
   "source": [
    "medianFilter = itk.OtsuThresholdImageFilter[ImageType, ImageType].New()\n",
    "medianFilter.SetInput(reader.GetOutput())\n",
    "\n",
    "\n",
    "writer = itk.ImageFileWriter[ImageType].New()\n",
    "writer.SetFileName(\"US_separar_Filter.JPG\")\n",
    "writer.SetInput(medianFilter.GetOutput())\n",
    "\n",
    "writer.Update()"
   ]
  },
  {
   "cell_type": "code",
   "execution_count": 33,
   "metadata": {},
   "outputs": [
    {
     "ename": "RuntimeError",
     "evalue": "/work/ITK-source/ITK/Modules/IO/JPEG/src/itkJPEGImageIO.cxx:394:\nITK ERROR: JPEGImageIO(0x5631f5311590): JPEG supports unsigned char/int only",
     "output_type": "error",
     "traceback": [
      "\u001b[0;31m---------------------------------------------------------------------------\u001b[0m",
      "\u001b[0;31mRuntimeError\u001b[0m                              Traceback (most recent call last)",
      "Cell \u001b[0;32mIn [33], line 28\u001b[0m\n\u001b[1;32m     25\u001b[0m writer\u001b[39m.\u001b[39mSetFileName(\u001b[39m'\u001b[39m\u001b[39mUS_Curvatura.JPG\u001b[39m\u001b[39m'\u001b[39m)\n\u001b[1;32m     26\u001b[0m writer\u001b[39m.\u001b[39mSetInput(rescaler\u001b[39m.\u001b[39mGetOutput())\n\u001b[0;32m---> 28\u001b[0m writer\u001b[39m.\u001b[39;49mUpdate()\n",
      "\u001b[0;31mRuntimeError\u001b[0m: /work/ITK-source/ITK/Modules/IO/JPEG/src/itkJPEGImageIO.cxx:394:\nITK ERROR: JPEGImageIO(0x5631f5311590): JPEG supports unsigned char/int only"
     ]
    }
   ],
   "source": [
    "ImageType = itk.Image[itk.F, 2]\n",
    "\n",
    "reader = itk.ImageFileReader[ImageType].New()\n",
    "reader.SetFileName(imagen)\n",
    "\n",
    "FilterType = itk.CurvatureFlowImageFilter[ImageType, ImageType]\n",
    "curvatureFlowFilter = FilterType.New()\n",
    "\n",
    "curvatureFlowFilter.SetInput(reader.GetOutput())\n",
    "curvatureFlowFilter.SetNumberOfIterations(5)\n",
    "\n",
    "\n",
    "RescaleFilterType = itk.RescaleIntensityImageFilter[ImageType, ImageType]\n",
    "rescaler = RescaleFilterType.New()\n",
    "rescaler.SetInput(curvatureFlowFilter.GetOutput())\n",
    "\n",
    "outputPixelTypeMinimum = itk.NumericTraits[itk.F].min()\n",
    "outputPixelTypeMaximum = itk.NumericTraits[itk.F].max()\n",
    "\n",
    "rescaler.SetOutputMinimum(outputPixelTypeMinimum)\n",
    "rescaler.SetOutputMaximum(outputPixelTypeMaximum)\n",
    "\n",
    "WriterType = itk.ImageFileWriter[ImageType]\n",
    "writer = WriterType.New()\n",
    "writer.SetFileName('US_Curvatura.JPG')\n",
    "writer.SetInput(rescaler.GetOutput())\n",
    "\n",
    "writer.Update()"
   ]
  },
  {
   "cell_type": "code",
   "execution_count": null,
   "metadata": {},
   "outputs": [],
   "source": []
  }
 ],
 "metadata": {
  "kernelspec": {
   "display_name": "Python 3.8.8 ('base')",
   "language": "python",
   "name": "python3"
  },
  "language_info": {
   "codemirror_mode": {
    "name": "ipython",
    "version": 3
   },
   "file_extension": ".py",
   "mimetype": "text/x-python",
   "name": "python",
   "nbconvert_exporter": "python",
   "pygments_lexer": "ipython3",
   "version": "3.8.8"
  },
  "orig_nbformat": 4,
  "vscode": {
   "interpreter": {
    "hash": "8ce01245e9da130afa697352987bbd628fe3b723b69c6329fb17e7abdc768ee3"
   }
  }
 },
 "nbformat": 4,
 "nbformat_minor": 2
}
